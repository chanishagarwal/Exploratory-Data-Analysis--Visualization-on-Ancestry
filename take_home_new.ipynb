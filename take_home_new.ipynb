{
 "cells": [
  {
   "cell_type": "code",
   "execution_count": 1,
   "metadata": {},
   "outputs": [],
   "source": [
    "import pandas as pd\n",
    "import seaborn as sns\n",
    "import numpy as np\n",
    "import matplotlib.pyplot as plt\n",
    "%matplotlib inline\n",
    "from matplotlib.pylab import rcParams\n",
    "rcParams['figure.figsize']= 10,6\n",
    "from matplotlib.ticker import StrMethodFormatter\n",
    "color = sns.color_palette()"
   ]
  },
  {
   "cell_type": "code",
   "execution_count": 2,
   "metadata": {},
   "outputs": [],
   "source": [
    "#pwd!"
   ]
  },
  {
   "cell_type": "code",
   "execution_count": 4,
   "metadata": {},
   "outputs": [],
   "source": [
    "data_file=pd.read_csv('take-home_exercise_data.csv')"
   ]
  },
  {
   "cell_type": "code",
   "execution_count": 5,
   "metadata": {},
   "outputs": [
    {
     "data": {
      "text/html": [
       "<div>\n",
       "<style scoped>\n",
       "    .dataframe tbody tr th:only-of-type {\n",
       "        vertical-align: middle;\n",
       "    }\n",
       "\n",
       "    .dataframe tbody tr th {\n",
       "        vertical-align: top;\n",
       "    }\n",
       "\n",
       "    .dataframe thead th {\n",
       "        text-align: right;\n",
       "    }\n",
       "</style>\n",
       "<table border=\"1\" class=\"dataframe\">\n",
       "  <thead>\n",
       "    <tr style=\"text-align: right;\">\n",
       "      <th></th>\n",
       "      <th>Unnamed: 0</th>\n",
       "      <th>prospectid</th>\n",
       "      <th>ordernumber</th>\n",
       "      <th>ordercreatedate</th>\n",
       "      <th>regtenure</th>\n",
       "      <th>customer_type_group</th>\n",
       "      <th>dnatestactivationdayid</th>\n",
       "      <th>daystogetresult_grp</th>\n",
       "      <th>dna_visittrafficsubtype</th>\n",
       "      <th>xsell_gsa</th>\n",
       "      <th>xsell_day_exact</th>\n",
       "    </tr>\n",
       "  </thead>\n",
       "  <tbody>\n",
       "    <tr>\n",
       "      <th>0</th>\n",
       "      <td>1</td>\n",
       "      <td>93771712</td>\n",
       "      <td>127707306</td>\n",
       "      <td>2014-11-28</td>\n",
       "      <td>More than 120 days old</td>\n",
       "      <td>Existing Reg</td>\n",
       "      <td>2014-12-10</td>\n",
       "      <td>4 weeks</td>\n",
       "      <td>NaN</td>\n",
       "      <td>1</td>\n",
       "      <td>38.0</td>\n",
       "    </tr>\n",
       "    <tr>\n",
       "      <th>1</th>\n",
       "      <td>2</td>\n",
       "      <td>123112555</td>\n",
       "      <td>114401425</td>\n",
       "      <td>2013-12-05</td>\n",
       "      <td>Order prior to reg</td>\n",
       "      <td>New Reg</td>\n",
       "      <td>2014-01-13</td>\n",
       "      <td>4 weeks</td>\n",
       "      <td>NaN</td>\n",
       "      <td>1</td>\n",
       "      <td>40.0</td>\n",
       "    </tr>\n",
       "    <tr>\n",
       "      <th>2</th>\n",
       "      <td>3</td>\n",
       "      <td>171965960</td>\n",
       "      <td>159656050</td>\n",
       "      <td>2016-11-25</td>\n",
       "      <td>Order prior to reg</td>\n",
       "      <td>New Reg</td>\n",
       "      <td>NaN</td>\n",
       "      <td>-1</td>\n",
       "      <td>Paid Search Non Brand</td>\n",
       "      <td>0</td>\n",
       "      <td>NaN</td>\n",
       "    </tr>\n",
       "    <tr>\n",
       "      <th>3</th>\n",
       "      <td>4</td>\n",
       "      <td>175522116</td>\n",
       "      <td>165370285</td>\n",
       "      <td>2017-03-08</td>\n",
       "      <td>&lt;=60 days</td>\n",
       "      <td>Existing Reg</td>\n",
       "      <td>NaN</td>\n",
       "      <td>-1</td>\n",
       "      <td>Email Programs</td>\n",
       "      <td>0</td>\n",
       "      <td>NaN</td>\n",
       "    </tr>\n",
       "    <tr>\n",
       "      <th>4</th>\n",
       "      <td>5</td>\n",
       "      <td>149288086</td>\n",
       "      <td>132837125</td>\n",
       "      <td>2015-03-30</td>\n",
       "      <td>Order prior to reg</td>\n",
       "      <td>New Reg</td>\n",
       "      <td>2015-04-06</td>\n",
       "      <td>4 weeks</td>\n",
       "      <td>NaN</td>\n",
       "      <td>0</td>\n",
       "      <td>NaN</td>\n",
       "    </tr>\n",
       "  </tbody>\n",
       "</table>\n",
       "</div>"
      ],
      "text/plain": [
       "   Unnamed: 0  prospectid  ordernumber ordercreatedate  \\\n",
       "0           1    93771712    127707306      2014-11-28   \n",
       "1           2   123112555    114401425      2013-12-05   \n",
       "2           3   171965960    159656050      2016-11-25   \n",
       "3           4   175522116    165370285      2017-03-08   \n",
       "4           5   149288086    132837125      2015-03-30   \n",
       "\n",
       "                regtenure customer_type_group dnatestactivationdayid  \\\n",
       "0  More than 120 days old        Existing Reg             2014-12-10   \n",
       "1      Order prior to reg             New Reg             2014-01-13   \n",
       "2      Order prior to reg             New Reg                    NaN   \n",
       "3               <=60 days        Existing Reg                    NaN   \n",
       "4      Order prior to reg             New Reg             2015-04-06   \n",
       "\n",
       "  daystogetresult_grp dna_visittrafficsubtype  xsell_gsa  xsell_day_exact  \n",
       "0             4 weeks                     NaN          1             38.0  \n",
       "1             4 weeks                     NaN          1             40.0  \n",
       "2                  -1   Paid Search Non Brand          0              NaN  \n",
       "3                  -1          Email Programs          0              NaN  \n",
       "4             4 weeks                     NaN          0              NaN  "
      ]
     },
     "execution_count": 5,
     "metadata": {},
     "output_type": "execute_result"
    }
   ],
   "source": [
    "data_file.head(5)"
   ]
  },
  {
   "cell_type": "code",
   "execution_count": 43,
   "metadata": {},
   "outputs": [],
   "source": [
    "data_file['ordercreatedate'] = pd.to_datetime(data_file['ordercreatedate'])\n",
    "data_file['dnatestactivationdayid'] = pd.to_datetime(data_file['dnatestactivationdayid'])\n",
    "\n",
    "\n",
    "data_file['date_diff'] = (data_file['dnatestactivationdayid'] - data_file['ordercreatedate']).dt.days"
   ]
  },
  {
   "cell_type": "code",
   "execution_count": 23,
   "metadata": {},
   "outputs": [
    {
     "data": {
      "text/plain": [
       "prospectid                 81253\n",
       "ordernumber                81253\n",
       "ordercreatedate            81253\n",
       "regtenure                  81253\n",
       "customer_type_group        81253\n",
       "dnatestactivationdayid     65308\n",
       "daystogetresult_grp        81253\n",
       "dna_visittrafficsubtype    52442\n",
       "xsell_gsa                  81253\n",
       "xsell_day_exact             7141\n",
       "xsell_derived              81253\n",
       "Cross_sell_customer        81253\n",
       "order_count                81253\n",
       "dtype: int64"
      ]
     },
     "execution_count": 23,
     "metadata": {},
     "output_type": "execute_result"
    }
   ],
   "source": [
    "data_file[data_file.customer_type_group=='Acom Sub'].count()"
   ]
  },
  {
   "cell_type": "code",
   "execution_count": null,
   "metadata": {},
   "outputs": [],
   "source": [
    "data_file[data_file.customer_type_group=='Acom Sub' & data_file.x].count()"
   ]
  },
  {
   "cell_type": "code",
   "execution_count": 6,
   "metadata": {},
   "outputs": [],
   "source": [
    "# data_file.columns\n",
    "# data_file.dtypes"
   ]
  },
  {
   "cell_type": "code",
   "execution_count": 7,
   "metadata": {},
   "outputs": [],
   "source": [
    "data_file=data_file.drop(data_file.columns[0], axis=1)"
   ]
  },
  {
   "cell_type": "code",
   "execution_count": 8,
   "metadata": {},
   "outputs": [],
   "source": [
    "#data_file['ordercreatedate'] = pd.to_datetime(data_file['ordercreatedate'])\n",
    "#data_file['dnatestactivationdayid'] = pd.to_datetime(data_file['dnatestactivationdayid'])"
   ]
  },
  {
   "cell_type": "code",
   "execution_count": 9,
   "metadata": {},
   "outputs": [
    {
     "data": {
      "text/plain": [
       "prospectid                   int64\n",
       "ordernumber                  int64\n",
       "ordercreatedate             object\n",
       "regtenure                   object\n",
       "customer_type_group         object\n",
       "dnatestactivationdayid      object\n",
       "daystogetresult_grp         object\n",
       "dna_visittrafficsubtype     object\n",
       "xsell_gsa                    int64\n",
       "xsell_day_exact            float64\n",
       "dtype: object"
      ]
     },
     "execution_count": 9,
     "metadata": {},
     "output_type": "execute_result"
    }
   ],
   "source": [
    "# Datatype of each column wrt their description\n",
    "data_file.dtypes"
   ]
  },
  {
   "cell_type": "code",
   "execution_count": 10,
   "metadata": {},
   "outputs": [
    {
     "data": {
      "text/plain": [
       "251942"
      ]
     },
     "execution_count": 10,
     "metadata": {},
     "output_type": "execute_result"
    }
   ],
   "source": [
    "# Total number of customers\n",
    "data_file['prospectid'].count()"
   ]
  },
  {
   "cell_type": "code",
   "execution_count": 11,
   "metadata": {},
   "outputs": [],
   "source": [
    "#print(data_file[\"customer_type_group\"].value_counts())"
   ]
  },
  {
   "cell_type": "code",
   "execution_count": 12,
   "metadata": {},
   "outputs": [],
   "source": [
    "data_file['xsell_derived'] = np.where(data_file['xsell_day_exact']<=120, 'Within 120 days', 'More than 120 days')"
   ]
  },
  {
   "cell_type": "code",
   "execution_count": 13,
   "metadata": {},
   "outputs": [],
   "source": [
    "data_file[\"Cross_sell_customer\"]=np.where((data_file[\"xsell_gsa\"] == 1) & (data_file[\"xsell_derived\"] == \"Within 120 days\"),'Yes','No')"
   ]
  },
  {
   "cell_type": "code",
   "execution_count": 14,
   "metadata": {},
   "outputs": [],
   "source": [
    "gb_prospectid = data_file[['prospectid','ordernumber']].groupby('prospectid').count()"
   ]
  },
  {
   "cell_type": "code",
   "execution_count": 15,
   "metadata": {},
   "outputs": [
    {
     "data": {
      "text/plain": [
       "ordernumber    33407\n",
       "dtype: int64"
      ]
     },
     "execution_count": 15,
     "metadata": {},
     "output_type": "execute_result"
    }
   ],
   "source": [
    "gb_prospectid[gb_prospectid.ordernumber>1].count()"
   ]
  },
  {
   "cell_type": "code",
   "execution_count": 16,
   "metadata": {},
   "outputs": [],
   "source": [
    "gb_prospectid.rename(columns={'ordernumber':'order_count'},inplace=True)"
   ]
  },
  {
   "cell_type": "code",
   "execution_count": 17,
   "metadata": {},
   "outputs": [],
   "source": [
    "gb_prospectid.reset_index(level=0,inplace=True)"
   ]
  },
  {
   "cell_type": "code",
   "execution_count": 18,
   "metadata": {},
   "outputs": [],
   "source": [
    "data_file = data_file.merge(gb_prospectid,how='left',on='prospectid')"
   ]
  },
  {
   "cell_type": "code",
   "execution_count": 19,
   "metadata": {},
   "outputs": [
    {
     "ename": "NameError",
     "evalue": "name 'data' is not defined",
     "output_type": "error",
     "traceback": [
      "\u001b[0;31m---------------------------------------------------------------------------\u001b[0m",
      "\u001b[0;31mNameError\u001b[0m                                 Traceback (most recent call last)",
      "\u001b[0;32m<ipython-input-19-98c2ab11261a>\u001b[0m in \u001b[0;36m<module>\u001b[0;34m\u001b[0m\n\u001b[0;32m----> 1\u001b[0;31m \u001b[0mdata_file\u001b[0m\u001b[0;34m[\u001b[0m\u001b[0;34m'label_Y_cross_sell'\u001b[0m\u001b[0;34m]\u001b[0m \u001b[0;34m=\u001b[0m \u001b[0mdata\u001b[0m\u001b[0;34m\u001b[0m\u001b[0;34m\u001b[0m\u001b[0m\n\u001b[0m",
      "\u001b[0;31mNameError\u001b[0m: name 'data' is not defined"
     ]
    }
   ],
   "source": [
    "data_file['label_Y_cross_sell'] = data"
   ]
  },
  {
   "cell_type": "code",
   "execution_count": 20,
   "metadata": {},
   "outputs": [
    {
     "ename": "NameError",
     "evalue": "name 'get_unique_count' is not defined",
     "output_type": "error",
     "traceback": [
      "\u001b[0;31m---------------------------------------------------------------------------\u001b[0m",
      "\u001b[0;31mNameError\u001b[0m                                 Traceback (most recent call last)",
      "\u001b[0;32m<ipython-input-20-2ffa5bf34f2d>\u001b[0m in \u001b[0;36m<module>\u001b[0;34m\u001b[0m\n\u001b[0;32m----> 1\u001b[0;31m \u001b[0mdata_file_cnt_dna\u001b[0m \u001b[0;34m=\u001b[0m \u001b[0mdata_file\u001b[0m\u001b[0;34m.\u001b[0m\u001b[0mgroupby\u001b[0m\u001b[0;34m(\u001b[0m\u001b[0;34m\"customer_type_group\"\u001b[0m\u001b[0;34m)\u001b[0m\u001b[0;34m[\u001b[0m\u001b[0;34m\"ordernumber\"\u001b[0m\u001b[0;34m]\u001b[0m\u001b[0;34m.\u001b[0m\u001b[0maggregate\u001b[0m\u001b[0;34m(\u001b[0m\u001b[0mget_unique_count\u001b[0m\u001b[0;34m)\u001b[0m\u001b[0;34m\u001b[0m\u001b[0;34m\u001b[0m\u001b[0m\n\u001b[0m\u001b[1;32m      2\u001b[0m \u001b[0mdata_file_cnt_dna\u001b[0m\u001b[0;34m\u001b[0m\u001b[0;34m\u001b[0m\u001b[0m\n",
      "\u001b[0;31mNameError\u001b[0m: name 'get_unique_count' is not defined"
     ]
    }
   ],
   "source": [
    "data_file_cnt_dna = data_file.groupby(\"customer_type_group\")[\"ordernumber\"].aggregate(get_unique_count)\n",
    "data_file_cnt_dna"
   ]
  },
  {
   "cell_type": "code",
   "execution_count": 21,
   "metadata": {},
   "outputs": [
    {
     "data": {
      "text/html": [
       "<div>\n",
       "<style scoped>\n",
       "    .dataframe tbody tr th:only-of-type {\n",
       "        vertical-align: middle;\n",
       "    }\n",
       "\n",
       "    .dataframe tbody tr th {\n",
       "        vertical-align: top;\n",
       "    }\n",
       "\n",
       "    .dataframe thead th {\n",
       "        text-align: right;\n",
       "    }\n",
       "</style>\n",
       "<table border=\"1\" class=\"dataframe\">\n",
       "  <thead>\n",
       "    <tr style=\"text-align: right;\">\n",
       "      <th></th>\n",
       "      <th>prospectid</th>\n",
       "      <th>ordernumber</th>\n",
       "      <th>ordercreatedate</th>\n",
       "      <th>regtenure</th>\n",
       "      <th>customer_type_group</th>\n",
       "      <th>dnatestactivationdayid</th>\n",
       "      <th>daystogetresult_grp</th>\n",
       "      <th>dna_visittrafficsubtype</th>\n",
       "      <th>xsell_gsa</th>\n",
       "      <th>xsell_day_exact</th>\n",
       "      <th>xsell_derived</th>\n",
       "      <th>Cross_sell_customer</th>\n",
       "      <th>order_count</th>\n",
       "    </tr>\n",
       "  </thead>\n",
       "  <tbody>\n",
       "    <tr>\n",
       "      <th>0</th>\n",
       "      <td>93771712</td>\n",
       "      <td>127707306</td>\n",
       "      <td>2014-11-28</td>\n",
       "      <td>More than 120 days old</td>\n",
       "      <td>Existing Reg</td>\n",
       "      <td>2014-12-10</td>\n",
       "      <td>4 weeks</td>\n",
       "      <td>NaN</td>\n",
       "      <td>1</td>\n",
       "      <td>38.0</td>\n",
       "      <td>Within 120 days</td>\n",
       "      <td>Yes</td>\n",
       "      <td>1</td>\n",
       "    </tr>\n",
       "    <tr>\n",
       "      <th>1</th>\n",
       "      <td>123112555</td>\n",
       "      <td>114401425</td>\n",
       "      <td>2013-12-05</td>\n",
       "      <td>Order prior to reg</td>\n",
       "      <td>New Reg</td>\n",
       "      <td>2014-01-13</td>\n",
       "      <td>4 weeks</td>\n",
       "      <td>NaN</td>\n",
       "      <td>1</td>\n",
       "      <td>40.0</td>\n",
       "      <td>Within 120 days</td>\n",
       "      <td>Yes</td>\n",
       "      <td>2</td>\n",
       "    </tr>\n",
       "    <tr>\n",
       "      <th>2</th>\n",
       "      <td>171965960</td>\n",
       "      <td>159656050</td>\n",
       "      <td>2016-11-25</td>\n",
       "      <td>Order prior to reg</td>\n",
       "      <td>New Reg</td>\n",
       "      <td>NaN</td>\n",
       "      <td>-1</td>\n",
       "      <td>Paid Search Non Brand</td>\n",
       "      <td>0</td>\n",
       "      <td>NaN</td>\n",
       "      <td>More than 120 days</td>\n",
       "      <td>No</td>\n",
       "      <td>1</td>\n",
       "    </tr>\n",
       "    <tr>\n",
       "      <th>3</th>\n",
       "      <td>175522116</td>\n",
       "      <td>165370285</td>\n",
       "      <td>2017-03-08</td>\n",
       "      <td>&lt;=60 days</td>\n",
       "      <td>Existing Reg</td>\n",
       "      <td>NaN</td>\n",
       "      <td>-1</td>\n",
       "      <td>Email Programs</td>\n",
       "      <td>0</td>\n",
       "      <td>NaN</td>\n",
       "      <td>More than 120 days</td>\n",
       "      <td>No</td>\n",
       "      <td>1</td>\n",
       "    </tr>\n",
       "    <tr>\n",
       "      <th>4</th>\n",
       "      <td>149288086</td>\n",
       "      <td>132837125</td>\n",
       "      <td>2015-03-30</td>\n",
       "      <td>Order prior to reg</td>\n",
       "      <td>New Reg</td>\n",
       "      <td>2015-04-06</td>\n",
       "      <td>4 weeks</td>\n",
       "      <td>NaN</td>\n",
       "      <td>0</td>\n",
       "      <td>NaN</td>\n",
       "      <td>More than 120 days</td>\n",
       "      <td>No</td>\n",
       "      <td>1</td>\n",
       "    </tr>\n",
       "  </tbody>\n",
       "</table>\n",
       "</div>"
      ],
      "text/plain": [
       "   prospectid  ordernumber ordercreatedate               regtenure  \\\n",
       "0    93771712    127707306      2014-11-28  More than 120 days old   \n",
       "1   123112555    114401425      2013-12-05      Order prior to reg   \n",
       "2   171965960    159656050      2016-11-25      Order prior to reg   \n",
       "3   175522116    165370285      2017-03-08               <=60 days   \n",
       "4   149288086    132837125      2015-03-30      Order prior to reg   \n",
       "\n",
       "  customer_type_group dnatestactivationdayid daystogetresult_grp  \\\n",
       "0        Existing Reg             2014-12-10             4 weeks   \n",
       "1             New Reg             2014-01-13             4 weeks   \n",
       "2             New Reg                    NaN                  -1   \n",
       "3        Existing Reg                    NaN                  -1   \n",
       "4             New Reg             2015-04-06             4 weeks   \n",
       "\n",
       "  dna_visittrafficsubtype  xsell_gsa  xsell_day_exact       xsell_derived  \\\n",
       "0                     NaN          1             38.0     Within 120 days   \n",
       "1                     NaN          1             40.0     Within 120 days   \n",
       "2   Paid Search Non Brand          0              NaN  More than 120 days   \n",
       "3          Email Programs          0              NaN  More than 120 days   \n",
       "4                     NaN          0              NaN  More than 120 days   \n",
       "\n",
       "  Cross_sell_customer  order_count  \n",
       "0                 Yes            1  \n",
       "1                 Yes            2  \n",
       "2                  No            1  \n",
       "3                  No            1  \n",
       "4                  No            1  "
      ]
     },
     "execution_count": 21,
     "metadata": {},
     "output_type": "execute_result"
    }
   ],
   "source": [
    "data_file.head()"
   ]
  },
  {
   "cell_type": "code",
   "execution_count": 41,
   "metadata": {},
   "outputs": [
    {
     "data": {
      "text/plain": [
       "prospectid                 73097\n",
       "ordernumber                73097\n",
       "ordercreatedate            73097\n",
       "regtenure                  73097\n",
       "customer_type_group        73097\n",
       "dnatestactivationdayid         0\n",
       "daystogetresult_grp        73097\n",
       "dna_visittrafficsubtype    56066\n",
       "xsell_gsa                  73097\n",
       "xsell_day_exact             4840\n",
       "xsell_derived              73097\n",
       "Cross_sell_customer        73097\n",
       "order_count                73097\n",
       "dtype: int64"
      ]
     },
     "execution_count": 41,
     "metadata": {},
     "output_type": "execute_result"
    }
   ],
   "source": [
    "data_file[data_file.dnatestactivationdayid.isna()].count()"
   ]
  },
  {
   "cell_type": "code",
   "execution_count": 42,
   "metadata": {},
   "outputs": [
    {
     "data": {
      "text/plain": [
       "prospectid                 3886\n",
       "ordernumber                3886\n",
       "ordercreatedate            3886\n",
       "regtenure                  3886\n",
       "customer_type_group        3886\n",
       "dnatestactivationdayid        0\n",
       "daystogetresult_grp        3886\n",
       "dna_visittrafficsubtype    3060\n",
       "xsell_gsa                  3886\n",
       "xsell_day_exact            3886\n",
       "xsell_derived              3886\n",
       "Cross_sell_customer        3886\n",
       "order_count                3886\n",
       "dtype: int64"
      ]
     },
     "execution_count": 42,
     "metadata": {},
     "output_type": "execute_result"
    }
   ],
   "source": [
    "data_file[(data_file.Cross_sell_customer=='Yes')&(data_file.dnatestactivationdayid.isna())].count()"
   ]
  },
  {
   "cell_type": "code",
   "execution_count": 33,
   "metadata": {},
   "outputs": [
    {
     "data": {
      "text/html": [
       "<div>\n",
       "<style scoped>\n",
       "    .dataframe tbody tr th:only-of-type {\n",
       "        vertical-align: middle;\n",
       "    }\n",
       "\n",
       "    .dataframe tbody tr th {\n",
       "        vertical-align: top;\n",
       "    }\n",
       "\n",
       "    .dataframe thead th {\n",
       "        text-align: right;\n",
       "    }\n",
       "</style>\n",
       "<table border=\"1\" class=\"dataframe\">\n",
       "  <thead>\n",
       "    <tr style=\"text-align: right;\">\n",
       "      <th></th>\n",
       "      <th>ordernumber</th>\n",
       "    </tr>\n",
       "    <tr>\n",
       "      <th>Cross_sell_customer</th>\n",
       "      <th></th>\n",
       "    </tr>\n",
       "  </thead>\n",
       "  <tbody>\n",
       "    <tr>\n",
       "      <th>No</th>\n",
       "      <td>220726</td>\n",
       "    </tr>\n",
       "    <tr>\n",
       "      <th>Yes</th>\n",
       "      <td>31216</td>\n",
       "    </tr>\n",
       "  </tbody>\n",
       "</table>\n",
       "</div>"
      ],
      "text/plain": [
       "                     ordernumber\n",
       "Cross_sell_customer             \n",
       "No                        220726\n",
       "Yes                        31216"
      ]
     },
     "execution_count": 33,
     "metadata": {},
     "output_type": "execute_result"
    }
   ],
   "source": [
    "data_file[['Cross_sell_customer','ordernumber']].groupby('Cross_sell_customer').count()"
   ]
  },
  {
   "cell_type": "code",
   "execution_count": 39,
   "metadata": {},
   "outputs": [
    {
     "data": {
      "text/html": [
       "<div>\n",
       "<style scoped>\n",
       "    .dataframe tbody tr th:only-of-type {\n",
       "        vertical-align: middle;\n",
       "    }\n",
       "\n",
       "    .dataframe tbody tr th {\n",
       "        vertical-align: top;\n",
       "    }\n",
       "\n",
       "    .dataframe thead th {\n",
       "        text-align: right;\n",
       "    }\n",
       "</style>\n",
       "<table border=\"1\" class=\"dataframe\">\n",
       "  <thead>\n",
       "    <tr style=\"text-align: right;\">\n",
       "      <th></th>\n",
       "      <th>ordernumber</th>\n",
       "    </tr>\n",
       "    <tr>\n",
       "      <th>Cross_sell_customer</th>\n",
       "      <th></th>\n",
       "    </tr>\n",
       "  </thead>\n",
       "  <tbody>\n",
       "    <tr>\n",
       "      <th>No</th>\n",
       "      <td>15637</td>\n",
       "    </tr>\n",
       "    <tr>\n",
       "      <th>Yes</th>\n",
       "      <td>1097</td>\n",
       "    </tr>\n",
       "  </tbody>\n",
       "</table>\n",
       "</div>"
      ],
      "text/plain": [
       "                     ordernumber\n",
       "Cross_sell_customer             \n",
       "No                         15637\n",
       "Yes                         1097"
      ]
     },
     "execution_count": 39,
     "metadata": {},
     "output_type": "execute_result"
    }
   ],
   "source": [
    "data_file[data_file.order_count==3][['Cross_sell_customer','ordernumber']].groupby('Cross_sell_customer').count()"
   ]
  },
  {
   "cell_type": "code",
   "execution_count": 29,
   "metadata": {},
   "outputs": [
    {
     "data": {
      "text/plain": [
       "prospectid                 2620\n",
       "ordernumber                2620\n",
       "ordercreatedate            2620\n",
       "regtenure                  2620\n",
       "customer_type_group        2620\n",
       "dnatestactivationdayid     2247\n",
       "daystogetresult_grp        2620\n",
       "dna_visittrafficsubtype    1680\n",
       "xsell_gsa                  2620\n",
       "xsell_day_exact            2620\n",
       "xsell_derived              2620\n",
       "Cross_sell_customer        2620\n",
       "order_count                2620\n",
       "dtype: int64"
      ]
     },
     "execution_count": 29,
     "metadata": {},
     "output_type": "execute_result"
    }
   ],
   "source": [
    "data_file[(data_file.customer_type_group=='Acom Sub') &( data_file.xsell_day_exact<120)].count()"
   ]
  },
  {
   "cell_type": "code",
   "execution_count": 28,
   "metadata": {},
   "outputs": [
    {
     "data": {
      "text/plain": [
       "prospectid                 4518\n",
       "ordernumber                4518\n",
       "ordercreatedate            4518\n",
       "regtenure                  4518\n",
       "customer_type_group        4518\n",
       "dnatestactivationdayid     4190\n",
       "daystogetresult_grp        4518\n",
       "dna_visittrafficsubtype    1459\n",
       "xsell_gsa                  4518\n",
       "xsell_day_exact            4518\n",
       "xsell_derived              4518\n",
       "Cross_sell_customer        4518\n",
       "order_count                4518\n",
       "dtype: int64"
      ]
     },
     "execution_count": 28,
     "metadata": {},
     "output_type": "execute_result"
    }
   ],
   "source": [
    "data_file[(data_file.customer_type_group=='Acom Sub') &( data_file.xsell_day_exact>120)].count()"
   ]
  },
  {
   "cell_type": "code",
   "execution_count": 22,
   "metadata": {},
   "outputs": [
    {
     "name": "stdout",
     "output_type": "stream",
     "text": [
      "More than 120 days old    148440\n",
      "Order prior to reg         80058\n",
      "<=10 days                   6562\n",
      "<=60 days                   5156\n",
      "<=90 days                   3629\n",
      "<=120 days                  2928\n",
      "<=20 day                    2384\n",
      "<=30 days                   1976\n",
      "No Reg Date                  809\n",
      "Name: regtenure, dtype: int64\n"
     ]
    }
   ],
   "source": [
    "print(data_file[\"regtenure\"].value_counts())"
   ]
  },
  {
   "cell_type": "code",
   "execution_count": 13,
   "metadata": {},
   "outputs": [
    {
     "data": {
      "text/plain": [
       "count    40579.000000\n",
       "mean       140.674043\n",
       "std        668.588251\n",
       "min          0.000000\n",
       "25%          0.000000\n",
       "50%         22.000000\n",
       "75%        100.000000\n",
       "max      42302.000000\n",
       "Name: xsell_day_exact, dtype: float64"
      ]
     },
     "execution_count": 13,
     "metadata": {},
     "output_type": "execute_result"
    }
   ],
   "source": [
    "data_file['xsell_day_exact'].describe()"
   ]
  },
  {
   "cell_type": "code",
   "execution_count": null,
   "metadata": {},
   "outputs": [],
   "source": [
    "# info to dna activatation day on cross sell "
   ]
  },
  {
   "cell_type": "code",
   "execution_count": 84,
   "metadata": {},
   "outputs": [],
   "source": [
    "data_file = data_file[data_file.date_diff<=100]"
   ]
  },
  {
   "cell_type": "code",
   "execution_count": 90,
   "metadata": {},
   "outputs": [
    {
     "data": {
      "text/plain": [
       "count    170000.000000\n",
       "mean         17.015800\n",
       "std          17.376458\n",
       "min           1.000000\n",
       "25%           7.000000\n",
       "50%          10.000000\n",
       "75%          19.000000\n",
       "max         100.000000\n",
       "Name: date_diff, dtype: float64"
      ]
     },
     "execution_count": 90,
     "metadata": {},
     "output_type": "execute_result"
    }
   ],
   "source": [
    "data_file['date_diff'].describe()"
   ]
  },
  {
   "cell_type": "code",
   "execution_count": 85,
   "metadata": {},
   "outputs": [],
   "source": [
    "data_cross_sell = data_file[(data_file.Cross_sell_customer=='Yes')&(data_file.dnatestactivationdayid.isna()==False)]"
   ]
  },
  {
   "cell_type": "code",
   "execution_count": 86,
   "metadata": {},
   "outputs": [],
   "source": [
    "data_not_cross_sell = data_file[(data_file.Cross_sell_customer=='No')&(data_file.dnatestactivationdayid.isna()==False)]"
   ]
  },
  {
   "cell_type": "code",
   "execution_count": 87,
   "metadata": {},
   "outputs": [
    {
     "data": {
      "text/plain": [
       "count    26500.000000\n",
       "mean        15.700868\n",
       "std         16.075302\n",
       "min          1.000000\n",
       "25%          7.000000\n",
       "50%          9.000000\n",
       "75%         17.000000\n",
       "max        100.000000\n",
       "Name: date_diff, dtype: float64"
      ]
     },
     "execution_count": 87,
     "metadata": {},
     "output_type": "execute_result"
    }
   ],
   "source": [
    "data_cross_sell['date_diff'].describe()"
   ]
  },
  {
   "cell_type": "code",
   "execution_count": 88,
   "metadata": {},
   "outputs": [
    {
     "data": {
      "text/plain": [
       "count    143500.000000\n",
       "mean         17.258627\n",
       "std          17.595532\n",
       "min           1.000000\n",
       "25%           7.000000\n",
       "50%          10.000000\n",
       "75%          19.000000\n",
       "max         100.000000\n",
       "Name: date_diff, dtype: float64"
      ]
     },
     "execution_count": 88,
     "metadata": {},
     "output_type": "execute_result"
    }
   ],
   "source": [
    "data_not_cross_sell['date_diff'].describe()"
   ]
  },
  {
   "cell_type": "code",
   "execution_count": 57,
   "metadata": {},
   "outputs": [],
   "source": [
    "import seaborn as sns"
   ]
  },
  {
   "cell_type": "code",
   "execution_count": 61,
   "metadata": {},
   "outputs": [],
   "source": [
    "import matplotlib.pyplot as plt\n"
   ]
  },
  {
   "cell_type": "code",
   "execution_count": 67,
   "metadata": {},
   "outputs": [
    {
     "data": {
      "text/plain": [
       "(array([145512.,  17022.,   6188.,   3174.,   1595.,    990.,    716.,\n",
       "           634.,    445.,    344.]),\n",
       " array([  1. ,  30.8,  60.6,  90.4, 120.2, 150. , 179.8, 209.6, 239.4,\n",
       "        269.2, 299. ]),\n",
       " <a list of 10 Patch objects>)"
      ]
     },
     "execution_count": 67,
     "metadata": {},
     "output_type": "execute_result"
    },
    {
     "data": {
      "image/png": "[encoded data removed]",
      "text/plain": [
       "<Figure size 432x288 with 1 Axes>"
      ]
     },
     "metadata": {
      "needs_background": "light"
     },
     "output_type": "display_data"
    }
   ],
   "source": [
    "plt.hist(data_file[data_file.date_diff<300]['date_diff'].dropna(),  color = 'blue')"
   ]
  },
  {
   "cell_type": "code",
   "execution_count": 75,
   "metadata": {},
   "outputs": [
    {
     "data": {
      "text/plain": [
       "<matplotlib.axes._subplots.AxesSubplot at 0x1a215d3748>"
      ]
     },
     "execution_count": 75,
     "metadata": {},
     "output_type": "execute_result"
    },
    {
     "data": {
      "image/png": "[encoded data removed]",
      "text/plain": [
       "<Figure size 432x288 with 1 Axes>"
      ]
     },
     "metadata": {
      "needs_background": "light"
     },
     "output_type": "display_data"
    }
   ],
   "source": [
    "sns.boxplot(data_file['date_diff'].dropna())"
   ]
  },
  {
   "cell_type": "code",
   "execution_count": 80,
   "metadata": {},
   "outputs": [
    {
     "data": {
      "text/plain": [
       "prospectid                 8845\n",
       "ordernumber                8845\n",
       "ordercreatedate            8845\n",
       "regtenure                  8845\n",
       "customer_type_group        8845\n",
       "dnatestactivationdayid     8845\n",
       "daystogetresult_grp        8845\n",
       "dna_visittrafficsubtype    5559\n",
       "xsell_gsa                  8845\n",
       "xsell_day_exact            1726\n",
       "xsell_derived              8845\n",
       "Cross_sell_customer        8845\n",
       "order_count                8845\n",
       "date_diff                  8845\n",
       "dtype: int64"
      ]
     },
     "execution_count": 80,
     "metadata": {},
     "output_type": "execute_result"
    }
   ],
   "source": [
    "data_file[data_file.date_diff>100].count()"
   ]
  },
  {
   "cell_type": "code",
   "execution_count": 83,
   "metadata": {},
   "outputs": [
    {
     "data": {
      "text/plain": [
       "prospectid                 0\n",
       "ordernumber                0\n",
       "ordercreatedate            0\n",
       "regtenure                  0\n",
       "customer_type_group        0\n",
       "dnatestactivationdayid     0\n",
       "daystogetresult_grp        0\n",
       "dna_visittrafficsubtype    0\n",
       "xsell_gsa                  0\n",
       "xsell_day_exact            0\n",
       "xsell_derived              0\n",
       "Cross_sell_customer        0\n",
       "order_count                0\n",
       "date_diff                  0\n",
       "dtype: int64"
      ]
     },
     "execution_count": 83,
     "metadata": {},
     "output_type": "execute_result"
    }
   ],
   "source": [
    "data_file[data_file.date_diff<0].count()"
   ]
  },
  {
   "cell_type": "code",
   "execution_count": 81,
   "metadata": {},
   "outputs": [
    {
     "data": {
      "text/plain": [
       "<matplotlib.axes._subplots.AxesSubplot at 0x1a215eb1d0>"
      ]
     },
     "execution_count": 81,
     "metadata": {},
     "output_type": "execute_result"
    },
    {
     "data": {
      "image/png": "[encoded data removed]",
      "text/plain": [
       "<Figure size 432x288 with 1 Axes>"
      ]
     },
     "metadata": {
      "needs_background": "light"
     },
     "output_type": "display_data"
    }
   ],
   "source": [
    "sns.boxplot(data_file[data_file.date_diff<=100]['date_diff'].dropna())"
   ]
  },
  {
   "cell_type": "code",
   "execution_count": 82,
   "metadata": {},
   "outputs": [
    {
     "data": {
      "text/plain": [
       "<matplotlib.axes._subplots.AxesSubplot at 0x1a21616dd8>"
      ]
     },
     "execution_count": 82,
     "metadata": {},
     "output_type": "execute_result"
    },
    {
     "data": {
      "image/png": "[encoded data removed]",
      "text/plain": [
       "<Figure size 432x288 with 1 Axes>"
      ]
     },
     "metadata": {
      "needs_background": "light"
     },
     "output_type": "display_data"
    }
   ],
   "source": [
    "sns.boxplot(data_file[data_file.date_diff<=0]['date_diff'].dropna())"
   ]
  },
  {
   "cell_type": "code",
   "execution_count": 72,
   "metadata": {},
   "outputs": [
    {
     "data": {
      "text/html": [
       "<div>\n",
       "<style scoped>\n",
       "    .dataframe tbody tr th:only-of-type {\n",
       "        vertical-align: middle;\n",
       "    }\n",
       "\n",
       "    .dataframe tbody tr th {\n",
       "        vertical-align: top;\n",
       "    }\n",
       "\n",
       "    .dataframe thead th {\n",
       "        text-align: right;\n",
       "    }\n",
       "</style>\n",
       "<table border=\"1\" class=\"dataframe\">\n",
       "  <thead>\n",
       "    <tr style=\"text-align: right;\">\n",
       "      <th></th>\n",
       "      <th>prospectid</th>\n",
       "      <th>ordernumber</th>\n",
       "      <th>ordercreatedate</th>\n",
       "      <th>regtenure</th>\n",
       "      <th>customer_type_group</th>\n",
       "      <th>dnatestactivationdayid</th>\n",
       "      <th>daystogetresult_grp</th>\n",
       "      <th>dna_visittrafficsubtype</th>\n",
       "      <th>xsell_gsa</th>\n",
       "      <th>xsell_day_exact</th>\n",
       "      <th>xsell_derived</th>\n",
       "      <th>Cross_sell_customer</th>\n",
       "      <th>order_count</th>\n",
       "      <th>date_diff</th>\n",
       "    </tr>\n",
       "  </thead>\n",
       "  <tbody>\n",
       "    <tr>\n",
       "      <th>3029</th>\n",
       "      <td>155297138</td>\n",
       "      <td>140337214</td>\n",
       "      <td>1900-01-01</td>\n",
       "      <td>No Reg Date</td>\n",
       "      <td>New Reg</td>\n",
       "      <td>2015-11-25</td>\n",
       "      <td>5 weeks</td>\n",
       "      <td>NaN</td>\n",
       "      <td>1</td>\n",
       "      <td>42231.0</td>\n",
       "      <td>More than 120 days</td>\n",
       "      <td>No</td>\n",
       "      <td>2</td>\n",
       "      <td>42331.0</td>\n",
       "    </tr>\n",
       "    <tr>\n",
       "      <th>4276</th>\n",
       "      <td>84408881</td>\n",
       "      <td>141609021</td>\n",
       "      <td>1900-01-01</td>\n",
       "      <td>No Reg Date</td>\n",
       "      <td>New Reg</td>\n",
       "      <td>2015-12-02</td>\n",
       "      <td>4 weeks</td>\n",
       "      <td>NaN</td>\n",
       "      <td>1</td>\n",
       "      <td>40578.0</td>\n",
       "      <td>More than 120 days</td>\n",
       "      <td>No</td>\n",
       "      <td>2</td>\n",
       "      <td>42338.0</td>\n",
       "    </tr>\n",
       "    <tr>\n",
       "      <th>7310</th>\n",
       "      <td>37809830</td>\n",
       "      <td>109625891</td>\n",
       "      <td>2013-07-25</td>\n",
       "      <td>More than 120 days old</td>\n",
       "      <td>Acom Sub</td>\n",
       "      <td>2017-03-11</td>\n",
       "      <td>-1</td>\n",
       "      <td>NaN</td>\n",
       "      <td>0</td>\n",
       "      <td>NaN</td>\n",
       "      <td>More than 120 days</td>\n",
       "      <td>No</td>\n",
       "      <td>1</td>\n",
       "      <td>1325.0</td>\n",
       "    </tr>\n",
       "    <tr>\n",
       "      <th>7941</th>\n",
       "      <td>24456464</td>\n",
       "      <td>133526400</td>\n",
       "      <td>1900-01-01</td>\n",
       "      <td>No Reg Date</td>\n",
       "      <td>New Reg</td>\n",
       "      <td>2015-04-25</td>\n",
       "      <td>4 weeks</td>\n",
       "      <td>NaN</td>\n",
       "      <td>1</td>\n",
       "      <td>41485.0</td>\n",
       "      <td>More than 120 days</td>\n",
       "      <td>No</td>\n",
       "      <td>2</td>\n",
       "      <td>42117.0</td>\n",
       "    </tr>\n",
       "    <tr>\n",
       "      <th>8945</th>\n",
       "      <td>32468235</td>\n",
       "      <td>111728493</td>\n",
       "      <td>2013-09-22</td>\n",
       "      <td>More than 120 days old</td>\n",
       "      <td>Acom Sub</td>\n",
       "      <td>2016-09-10</td>\n",
       "      <td>4 weeks</td>\n",
       "      <td>NaN</td>\n",
       "      <td>0</td>\n",
       "      <td>NaN</td>\n",
       "      <td>More than 120 days</td>\n",
       "      <td>No</td>\n",
       "      <td>1</td>\n",
       "      <td>1084.0</td>\n",
       "    </tr>\n",
       "    <tr>\n",
       "      <th>9741</th>\n",
       "      <td>66348165</td>\n",
       "      <td>99664705</td>\n",
       "      <td>2012-09-02</td>\n",
       "      <td>More than 120 days old</td>\n",
       "      <td>Acom Sub</td>\n",
       "      <td>2016-01-09</td>\n",
       "      <td>-1</td>\n",
       "      <td>NaN</td>\n",
       "      <td>0</td>\n",
       "      <td>NaN</td>\n",
       "      <td>More than 120 days</td>\n",
       "      <td>No</td>\n",
       "      <td>2</td>\n",
       "      <td>1224.0</td>\n",
       "    </tr>\n",
       "    <tr>\n",
       "      <th>14283</th>\n",
       "      <td>74572205</td>\n",
       "      <td>98279617</td>\n",
       "      <td>2012-07-18</td>\n",
       "      <td>More than 120 days old</td>\n",
       "      <td>Acom Sub</td>\n",
       "      <td>2016-03-08</td>\n",
       "      <td>-1</td>\n",
       "      <td>NaN</td>\n",
       "      <td>0</td>\n",
       "      <td>NaN</td>\n",
       "      <td>More than 120 days</td>\n",
       "      <td>No</td>\n",
       "      <td>1</td>\n",
       "      <td>1329.0</td>\n",
       "    </tr>\n",
       "    <tr>\n",
       "      <th>15262</th>\n",
       "      <td>69435433</td>\n",
       "      <td>107018452</td>\n",
       "      <td>2013-04-29</td>\n",
       "      <td>More than 120 days old</td>\n",
       "      <td>Acom Sub</td>\n",
       "      <td>2017-02-18</td>\n",
       "      <td>-1</td>\n",
       "      <td>NaN</td>\n",
       "      <td>0</td>\n",
       "      <td>NaN</td>\n",
       "      <td>More than 120 days</td>\n",
       "      <td>No</td>\n",
       "      <td>2</td>\n",
       "      <td>1391.0</td>\n",
       "    </tr>\n",
       "    <tr>\n",
       "      <th>16920</th>\n",
       "      <td>48996656</td>\n",
       "      <td>102569163</td>\n",
       "      <td>2012-12-09</td>\n",
       "      <td>More than 120 days old</td>\n",
       "      <td>Acom Sub</td>\n",
       "      <td>2016-04-28</td>\n",
       "      <td>5 weeks</td>\n",
       "      <td>NaN</td>\n",
       "      <td>0</td>\n",
       "      <td>NaN</td>\n",
       "      <td>More than 120 days</td>\n",
       "      <td>No</td>\n",
       "      <td>3</td>\n",
       "      <td>1236.0</td>\n",
       "    </tr>\n",
       "    <tr>\n",
       "      <th>17557</th>\n",
       "      <td>86412999</td>\n",
       "      <td>103428025</td>\n",
       "      <td>2013-01-06</td>\n",
       "      <td>More than 120 days old</td>\n",
       "      <td>Acom Sub</td>\n",
       "      <td>2017-01-17</td>\n",
       "      <td>-1</td>\n",
       "      <td>NaN</td>\n",
       "      <td>1</td>\n",
       "      <td>1459.0</td>\n",
       "      <td>More than 120 days</td>\n",
       "      <td>No</td>\n",
       "      <td>2</td>\n",
       "      <td>1472.0</td>\n",
       "    </tr>\n",
       "  </tbody>\n",
       "</table>\n",
       "</div>"
      ],
      "text/plain": [
       "       prospectid  ordernumber ordercreatedate               regtenure  \\\n",
       "3029    155297138    140337214      1900-01-01             No Reg Date   \n",
       "4276     84408881    141609021      1900-01-01             No Reg Date   \n",
       "7310     37809830    109625891      2013-07-25  More than 120 days old   \n",
       "7941     24456464    133526400      1900-01-01             No Reg Date   \n",
       "8945     32468235    111728493      2013-09-22  More than 120 days old   \n",
       "9741     66348165     99664705      2012-09-02  More than 120 days old   \n",
       "14283    74572205     98279617      2012-07-18  More than 120 days old   \n",
       "15262    69435433    107018452      2013-04-29  More than 120 days old   \n",
       "16920    48996656    102569163      2012-12-09  More than 120 days old   \n",
       "17557    86412999    103428025      2013-01-06  More than 120 days old   \n",
       "\n",
       "      customer_type_group dnatestactivationdayid daystogetresult_grp  \\\n",
       "3029              New Reg             2015-11-25             5 weeks   \n",
       "4276              New Reg             2015-12-02             4 weeks   \n",
       "7310             Acom Sub             2017-03-11                  -1   \n",
       "7941              New Reg             2015-04-25             4 weeks   \n",
       "8945             Acom Sub             2016-09-10             4 weeks   \n",
       "9741             Acom Sub             2016-01-09                  -1   \n",
       "14283            Acom Sub             2016-03-08                  -1   \n",
       "15262            Acom Sub             2017-02-18                  -1   \n",
       "16920            Acom Sub             2016-04-28             5 weeks   \n",
       "17557            Acom Sub             2017-01-17                  -1   \n",
       "\n",
       "      dna_visittrafficsubtype  xsell_gsa  xsell_day_exact       xsell_derived  \\\n",
       "3029                      NaN          1          42231.0  More than 120 days   \n",
       "4276                      NaN          1          40578.0  More than 120 days   \n",
       "7310                      NaN          0              NaN  More than 120 days   \n",
       "7941                      NaN          1          41485.0  More than 120 days   \n",
       "8945                      NaN          0              NaN  More than 120 days   \n",
       "9741                      NaN          0              NaN  More than 120 days   \n",
       "14283                     NaN          0              NaN  More than 120 days   \n",
       "15262                     NaN          0              NaN  More than 120 days   \n",
       "16920                     NaN          0              NaN  More than 120 days   \n",
       "17557                     NaN          1           1459.0  More than 120 days   \n",
       "\n",
       "      Cross_sell_customer  order_count  date_diff  \n",
       "3029                   No            2    42331.0  \n",
       "4276                   No            2    42338.0  \n",
       "7310                   No            1     1325.0  \n",
       "7941                   No            2    42117.0  \n",
       "8945                   No            1     1084.0  \n",
       "9741                   No            2     1224.0  \n",
       "14283                  No            1     1329.0  \n",
       "15262                  No            2     1391.0  \n",
       "16920                  No            3     1236.0  \n",
       "17557                  No            2     1472.0  "
      ]
     },
     "execution_count": 72,
     "metadata": {},
     "output_type": "execute_result"
    }
   ],
   "source": [
    "data_file[data_file.date_diff>1000].head(10)"
   ]
  },
  {
   "cell_type": "code",
   "execution_count": 14,
   "metadata": {},
   "outputs": [
    {
     "data": {
      "text/plain": [
       "['dnatestactivationdayid', 'dna_visittrafficsubtype', 'xsell_day_exact']"
      ]
     },
     "execution_count": 14,
     "metadata": {},
     "output_type": "execute_result"
    }
   ],
   "source": [
    "##  check any missing or NA or NAN values in columns of data set\n",
    "data_file.columns[data_file.isnull().any()].tolist()"
   ]
  },
  {
   "cell_type": "code",
   "execution_count": 15,
   "metadata": {},
   "outputs": [],
   "source": [
    "# filter out the observations which have not activated the product for test\n",
    "data_file_activation_unknown=data_file[data_file['dnatestactivationdayid'].isnull()]"
   ]
  },
  {
   "cell_type": "code",
   "execution_count": 16,
   "metadata": {},
   "outputs": [
    {
     "data": {
      "text/plain": [
       "73097"
      ]
     },
     "execution_count": 16,
     "metadata": {},
     "output_type": "execute_result"
    }
   ],
   "source": [
    "data_file_activation_unknown[\"prospectid\"].count()"
   ]
  },
  {
   "cell_type": "code",
   "execution_count": 17,
   "metadata": {},
   "outputs": [
    {
     "name": "stdout",
     "output_type": "stream",
     "text": [
      "29.01342372450802\n"
     ]
    }
   ],
   "source": [
    "# percentage of customers who havent activated the DNA product after purchase or whose date is not recorded\n",
    "x=data_file['prospectid'].count()\n",
    "y=data_file_activation_unknown[\"prospectid\"].count()\n",
    "prcnt=(y/x)*100\n",
    "print (prcnt)"
   ]
  },
  {
   "cell_type": "code",
   "execution_count": 18,
   "metadata": {},
   "outputs": [],
   "source": [
    "def get_unique_count(x):\n",
    "    return len(np.unique(x))"
   ]
  },
  {
   "cell_type": "code",
   "execution_count": 19,
   "metadata": {},
   "outputs": [],
   "source": [
    "#data_file_activation_unknown_cnt = data_file_activation_unknown.groupby(\"xsell_day_exact\")[\"xsell_derived\"].aggregate(get_unique_count)\n",
    "#data_file_activation_unknown_cnt"
   ]
  },
  {
   "cell_type": "code",
   "execution_count": 20,
   "metadata": {},
   "outputs": [
    {
     "data": {
      "text/html": [
       "<div>\n",
       "<style scoped>\n",
       "    .dataframe tbody tr th:only-of-type {\n",
       "        vertical-align: middle;\n",
       "    }\n",
       "\n",
       "    .dataframe tbody tr th {\n",
       "        vertical-align: top;\n",
       "    }\n",
       "\n",
       "    .dataframe thead th {\n",
       "        text-align: right;\n",
       "    }\n",
       "</style>\n",
       "<table border=\"1\" class=\"dataframe\">\n",
       "  <thead>\n",
       "    <tr style=\"text-align: right;\">\n",
       "      <th>xsell_derived</th>\n",
       "      <th>More than 120 days</th>\n",
       "      <th>Within 120 days</th>\n",
       "    </tr>\n",
       "    <tr>\n",
       "      <th>xsell_gsa</th>\n",
       "      <th></th>\n",
       "      <th></th>\n",
       "    </tr>\n",
       "  </thead>\n",
       "  <tbody>\n",
       "    <tr>\n",
       "      <th>0</th>\n",
       "      <td>68257</td>\n",
       "      <td>0</td>\n",
       "    </tr>\n",
       "    <tr>\n",
       "      <th>1</th>\n",
       "      <td>954</td>\n",
       "      <td>3886</td>\n",
       "    </tr>\n",
       "  </tbody>\n",
       "</table>\n",
       "</div>"
      ],
      "text/plain": [
       "xsell_derived  More than 120 days  Within 120 days\n",
       "xsell_gsa                                         \n",
       "0                           68257                0\n",
       "1                             954             3886"
      ]
     },
     "execution_count": 20,
     "metadata": {},
     "output_type": "execute_result"
    }
   ],
   "source": [
    "cross_tab = pd.crosstab(index=data_file_activation_unknown[\"xsell_gsa\"], \n",
    "                          columns=data_file_activation_unknown[\"xsell_derived\"])\n",
    "cross_tab"
   ]
  },
  {
   "cell_type": "code",
   "execution_count": null,
   "metadata": {},
   "outputs": [],
   "source": []
  },
  {
   "cell_type": "code",
   "execution_count": 21,
   "metadata": {},
   "outputs": [],
   "source": [
    "data_file[\"dna_visittrafficsubtype\"] = data_file[\"dna_visittrafficsubtype\"].str.replace(\" ‰ÛÒ\", \"\")"
   ]
  },
  {
   "cell_type": "code",
   "execution_count": 22,
   "metadata": {},
   "outputs": [],
   "source": [
    "data_file['ordercreatedate'] = pd.to_datetime(data_file['ordercreatedate'])\n",
    "data_file['dnatestactivationdayid'] = pd.to_datetime(data_file['dnatestactivationdayid'])"
   ]
  },
  {
   "cell_type": "code",
   "execution_count": 23,
   "metadata": {},
   "outputs": [],
   "source": [
    "data_file['date diff'] = data_file['dnatestactivationdayid'] - data_file['ordercreatedate']"
   ]
  },
  {
   "cell_type": "code",
   "execution_count": 24,
   "metadata": {},
   "outputs": [],
   "source": [
    "#data_file[\"date diff\"] = pd.to_numeric(data_file[\"date diff\"])"
   ]
  },
  {
   "cell_type": "code",
   "execution_count": 25,
   "metadata": {},
   "outputs": [],
   "source": [
    "#len(data_file[data_file[\"date diff\"] == 'NaT'])"
   ]
  },
  {
   "cell_type": "code",
   "execution_count": null,
   "metadata": {},
   "outputs": [],
   "source": [
    "data_file.hist(column='s')"
   ]
  },
  {
   "cell_type": "code",
   "execution_count": 26,
   "metadata": {},
   "outputs": [
    {
     "data": {
      "text/html": [
       "<div>\n",
       "<style scoped>\n",
       "    .dataframe tbody tr th:only-of-type {\n",
       "        vertical-align: middle;\n",
       "    }\n",
       "\n",
       "    .dataframe tbody tr th {\n",
       "        vertical-align: top;\n",
       "    }\n",
       "\n",
       "    .dataframe thead th {\n",
       "        text-align: right;\n",
       "    }\n",
       "</style>\n",
       "<table border=\"1\" class=\"dataframe\">\n",
       "  <thead>\n",
       "    <tr style=\"text-align: right;\">\n",
       "      <th></th>\n",
       "      <th>prospectid</th>\n",
       "      <th>ordernumber</th>\n",
       "      <th>ordercreatedate</th>\n",
       "      <th>regtenure</th>\n",
       "      <th>customer_type_group</th>\n",
       "      <th>dnatestactivationdayid</th>\n",
       "      <th>daystogetresult_grp</th>\n",
       "      <th>dna_visittrafficsubtype</th>\n",
       "      <th>xsell_gsa</th>\n",
       "      <th>xsell_day_exact</th>\n",
       "      <th>xsell_derived</th>\n",
       "      <th>date diff</th>\n",
       "    </tr>\n",
       "  </thead>\n",
       "  <tbody>\n",
       "    <tr>\n",
       "      <th>0</th>\n",
       "      <td>93771712</td>\n",
       "      <td>127707306</td>\n",
       "      <td>2014-11-28</td>\n",
       "      <td>More than 120 days old</td>\n",
       "      <td>Existing Reg</td>\n",
       "      <td>2014-10-12</td>\n",
       "      <td>4 weeks</td>\n",
       "      <td>NaN</td>\n",
       "      <td>1</td>\n",
       "      <td>38.0</td>\n",
       "      <td>Within 120 days</td>\n",
       "      <td>-47 days</td>\n",
       "    </tr>\n",
       "    <tr>\n",
       "      <th>1</th>\n",
       "      <td>123112555</td>\n",
       "      <td>114401425</td>\n",
       "      <td>2013-05-12</td>\n",
       "      <td>Order prior to reg</td>\n",
       "      <td>New Reg</td>\n",
       "      <td>2014-01-13</td>\n",
       "      <td>4 weeks</td>\n",
       "      <td>NaN</td>\n",
       "      <td>1</td>\n",
       "      <td>40.0</td>\n",
       "      <td>Within 120 days</td>\n",
       "      <td>246 days</td>\n",
       "    </tr>\n",
       "    <tr>\n",
       "      <th>2</th>\n",
       "      <td>171965960</td>\n",
       "      <td>159656050</td>\n",
       "      <td>2016-11-25</td>\n",
       "      <td>Order prior to reg</td>\n",
       "      <td>New Reg</td>\n",
       "      <td>NaT</td>\n",
       "      <td>-1</td>\n",
       "      <td>Paid Search Non Brand</td>\n",
       "      <td>0</td>\n",
       "      <td>NaN</td>\n",
       "      <td>More than 120 days</td>\n",
       "      <td>NaT</td>\n",
       "    </tr>\n",
       "    <tr>\n",
       "      <th>3</th>\n",
       "      <td>175522116</td>\n",
       "      <td>165370285</td>\n",
       "      <td>2017-08-03</td>\n",
       "      <td>&lt;=60 days</td>\n",
       "      <td>Existing Reg</td>\n",
       "      <td>NaT</td>\n",
       "      <td>-1</td>\n",
       "      <td>Email Programs</td>\n",
       "      <td>0</td>\n",
       "      <td>NaN</td>\n",
       "      <td>More than 120 days</td>\n",
       "      <td>NaT</td>\n",
       "    </tr>\n",
       "    <tr>\n",
       "      <th>4</th>\n",
       "      <td>149288086</td>\n",
       "      <td>132837125</td>\n",
       "      <td>2015-03-30</td>\n",
       "      <td>Order prior to reg</td>\n",
       "      <td>New Reg</td>\n",
       "      <td>2015-06-04</td>\n",
       "      <td>4 weeks</td>\n",
       "      <td>NaN</td>\n",
       "      <td>0</td>\n",
       "      <td>NaN</td>\n",
       "      <td>More than 120 days</td>\n",
       "      <td>66 days</td>\n",
       "    </tr>\n",
       "  </tbody>\n",
       "</table>\n",
       "</div>"
      ],
      "text/plain": [
       "   prospectid  ordernumber ordercreatedate               regtenure  \\\n",
       "0    93771712    127707306      2014-11-28  More than 120 days old   \n",
       "1   123112555    114401425      2013-05-12      Order prior to reg   \n",
       "2   171965960    159656050      2016-11-25      Order prior to reg   \n",
       "3   175522116    165370285      2017-08-03               <=60 days   \n",
       "4   149288086    132837125      2015-03-30      Order prior to reg   \n",
       "\n",
       "  customer_type_group dnatestactivationdayid daystogetresult_grp  \\\n",
       "0        Existing Reg             2014-10-12             4 weeks   \n",
       "1             New Reg             2014-01-13             4 weeks   \n",
       "2             New Reg                    NaT                  -1   \n",
       "3        Existing Reg                    NaT                  -1   \n",
       "4             New Reg             2015-06-04             4 weeks   \n",
       "\n",
       "  dna_visittrafficsubtype  xsell_gsa  xsell_day_exact       xsell_derived  \\\n",
       "0                     NaN          1             38.0     Within 120 days   \n",
       "1                     NaN          1             40.0     Within 120 days   \n",
       "2   Paid Search Non Brand          0              NaN  More than 120 days   \n",
       "3          Email Programs          0              NaN  More than 120 days   \n",
       "4                     NaN          0              NaN  More than 120 days   \n",
       "\n",
       "  date diff  \n",
       "0  -47 days  \n",
       "1  246 days  \n",
       "2       NaT  \n",
       "3       NaT  \n",
       "4   66 days  "
      ]
     },
     "execution_count": 26,
     "metadata": {},
     "output_type": "execute_result"
    }
   ],
   "source": [
    "data_file.head()"
   ]
  },
  {
   "cell_type": "code",
   "execution_count": 27,
   "metadata": {},
   "outputs": [
    {
     "data": {
      "text/plain": [
       "73097"
      ]
     },
     "execution_count": 27,
     "metadata": {},
     "output_type": "execute_result"
    }
   ],
   "source": [
    "sum(pd.isnull(data_file['date diff']))"
   ]
  },
  {
   "cell_type": "code",
   "execution_count": 30,
   "metadata": {},
   "outputs": [
    {
     "data": {
      "text/plain": [
       "prospectid                           int64\n",
       "ordernumber                          int64\n",
       "ordercreatedate             datetime64[ns]\n",
       "regtenure                           object\n",
       "customer_type_group                 object\n",
       "dnatestactivationdayid      datetime64[ns]\n",
       "daystogetresult_grp                 object\n",
       "dna_visittrafficsubtype             object\n",
       "xsell_gsa                            int64\n",
       "xsell_day_exact                    float64\n",
       "xsell_derived                       object\n",
       "date diff                  timedelta64[ns]\n",
       "dtype: object"
      ]
     },
     "execution_count": 30,
     "metadata": {},
     "output_type": "execute_result"
    }
   ],
   "source": [
    "data_file.dtypes"
   ]
  },
  {
   "cell_type": "code",
   "execution_count": null,
   "metadata": {},
   "outputs": [],
   "source": [
    "data_file['year'] = data_file['ordercreatedate'].dt.year\n",
    "ddata_filef['month'] = data_file['creatordercreatedateed_at_first'].dt.month\n",
    "data_file['day'] = data_file['ordercreatedate'].dt.day"
   ]
  },
  {
   "cell_type": "markdown",
   "metadata": {},
   "source": [
    "Description --\n",
    "        prospectid : unique (customer wise)\n",
    "        ordernumber : unique (DNA product wise)\n",
    "        ordercreatedate : DNA product ordered date\n",
    "        regtenure : email id registered days\n",
    "        customer_type_group : type of customer of DNA product\n",
    "        dnatestactivationdayid : DNA test activated date\n",
    "        daystogetresult_grp : days taken to get results of DNA test\n",
    "        dna_visittrafficsubtype : DNA product traffic medium/channel\n",
    "        xsell_gsa : indicates ACOM subscriber\n",
    "        xsell_day_exact : days b/w DNA product sale & ACOM subscription\n",
    "        \n",
    "Checks --\n",
    "        New Reg = are new registered customers  ==> "
   ]
  },
  {
   "cell_type": "code",
   "execution_count": null,
   "metadata": {},
   "outputs": [],
   "source": []
  }
 ],
 "metadata": {
  "kernelspec": {
   "display_name": "Python 3",
   "language": "python",
   "name": "python3"
  },
  "language_info": {
   "codemirror_mode": {
    "name": "ipython",
    "version": 3
   },
   "file_extension": ".py",
   "mimetype": "text/x-python",
   "name": "python",
   "nbconvert_exporter": "python",
   "pygments_lexer": "ipython3",
   "version": "3.7.3"
  }
 },
 "nbformat": 4,
 "nbformat_minor": 2
}
